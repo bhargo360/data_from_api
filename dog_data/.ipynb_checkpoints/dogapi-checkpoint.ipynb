{
 "cells": [
  {
   "cell_type": "code",
   "execution_count": 2,
   "metadata": {},
   "outputs": [
    {
     "name": "stdout",
     "output_type": "stream",
     "text": [
      "0 success-https://images.dog.ceo/breeds/corgi-cardigan/n02113186_9666.jpg\n",
      "1 success-https://images.dog.ceo/breeds/newfoundland/n02111277_2705.jpg\n"
     ]
    }
   ],
   "source": [
    "import requests\n",
    "n=2\n",
    "for i in range(n):\n",
    "    API_URL = 'https://dog.ceo/api/breeds/image/random'\n",
    "    #API_KEY = 'i0cgsdYL3hpeOGkoGmA2TxzJ8LbbU1HpbkZo8B3kFG2bRKjx3V'\n",
    "    #headers = {'UserAPI-Key': API_KEY}\n",
    "    response = requests.get('{}'.format(API_URL))\n",
    "    data = response.json()\n",
    "    print(str(i) + \" \" + data['status'] + \"-\" + data['message'])\n",
    "    if(data['status'] == \"success\"):\n",
    "        fileurl = data['message']\n",
    "        urlsplit = fileurl.split('/')\n",
    "        breed = urlsplit[4]\n",
    "        fname = urlsplit[5]\n",
    "        newfilename = \"images/\"+breed+\"---\"+fname\n",
    "#        print(breed+\"---\"+fname)\n",
    "#        print(newfilename)\n",
    "        import wget\n",
    "        file_name = wget.download(fileurl)\n",
    "        import os\n",
    "        os.rename(fname, newfilename)"
   ]
  }
 ],
 "metadata": {
  "kernelspec": {
   "display_name": "Python 3",
   "language": "python",
   "name": "python3"
  },
  "language_info": {
   "codemirror_mode": {
    "name": "ipython",
    "version": 3
   },
   "file_extension": ".py",
   "mimetype": "text/x-python",
   "name": "python",
   "nbconvert_exporter": "python",
   "pygments_lexer": "ipython3",
   "version": "3.7.4"
  }
 },
 "nbformat": 4,
 "nbformat_minor": 4
}
