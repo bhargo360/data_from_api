{
 "cells": [
  {
   "cell_type": "code",
   "execution_count": 1,
   "metadata": {},
   "outputs": [
    {
     "name": "stdout",
     "output_type": "stream",
     "text": [
      "https://random.dog/526590d2-8817-4ff0-8c62-fdcba5306d02.jpg\n",
      "0--jpg--https://random.dog/526590d2-8817-4ff0-8c62-fdcba5306d02.jpg\n",
      "saved- :)\n"
     ]
    }
   ],
   "source": [
    "import requests\n",
    "n=1\n",
    "for i in range(n):\n",
    "    API_URL = 'https://random.dog/woof.json'\n",
    "    #API_KEY = 'i0cgsdYL3hpeOGkoGmA2TxzJ8LbbU1HpbkZo8B3kFG2bRKjx3V'\n",
    "    #headers = {'UserAPI-Key': API_KEY}\n",
    "    response = requests.get('{}'.format(API_URL))\n",
    "    data = response.json()\n",
    "    print(data['url'])\n",
    "    fileurl = data['url']\n",
    "    urlsplit = fileurl.split('/')\n",
    "    fname = urlsplit[-1]\n",
    "    newfilename = \"images/\"+fname\n",
    "    t1 = fileurl.split('/')\n",
    "    t2 = t1[-1]\n",
    "    t3 = t2.split(\".\")\n",
    "    t4 = t3[-1]\n",
    "    print(str(i)+ \"--\" + t4.lower() + \"--\" + data['url'])\n",
    "    if(t4.lower()==\"jpg\" or t4.lower()==\"jpeg\" or t4.lower()==\"png\"):\n",
    "        import wget\n",
    "        file_name = wget.download(fileurl)\n",
    "        print(\"saved- :)\")\n",
    "        import os\n",
    "        os.rename(fname, newfilename)"
   ]
  }
 ],
 "metadata": {
  "kernelspec": {
   "display_name": "Python 3",
   "language": "python",
   "name": "python3"
  },
  "language_info": {
   "codemirror_mode": {
    "name": "ipython",
    "version": 3
   },
   "file_extension": ".py",
   "mimetype": "text/x-python",
   "name": "python",
   "nbconvert_exporter": "python",
   "pygments_lexer": "ipython3",
   "version": "3.7.4"
  }
 },
 "nbformat": 4,
 "nbformat_minor": 4
}
