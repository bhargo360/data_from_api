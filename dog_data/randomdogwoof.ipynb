{
 "cells": [
  {
   "cell_type": "code",
   "execution_count": null,
   "metadata": {},
   "outputs": [],
   "source": [
    "import requests\n",
    "n=1\n",
    "for i in range(n):\n",
    "    API_URL = 'https://random.dog/woof.json'\n",
    "    #API_KEY = 'i0cgsdYL3hpeOGkoGmA2TxzJ8LbbU1HpbkZo8B3kFG2bRKjx3V'\n",
    "    #headers = {'UserAPI-Key': API_KEY}\n",
    "    response = requests.get('{}'.format(API_URL))\n",
    "    data = response.json()\n",
    "    print(data['url'])\n",
    "    fileurl = data['url']\n",
    "    import wget\n",
    "    file_name = wget.download(fileurl)"
   ]
  }
 ],
 "metadata": {
  "kernelspec": {
   "display_name": "Python 3",
   "language": "python",
   "name": "python3"
  },
  "language_info": {
   "codemirror_mode": {
    "name": "ipython",
    "version": 3
   },
   "file_extension": ".py",
   "mimetype": "text/x-python",
   "name": "python",
   "nbconvert_exporter": "python",
   "pygments_lexer": "ipython3",
   "version": "3.7.4"
  }
 },
 "nbformat": 4,
 "nbformat_minor": 4
}
